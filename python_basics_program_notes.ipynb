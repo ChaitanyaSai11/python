{
  "cells": [
    {
      "cell_type": "markdown",
      "metadata": {
        "id": "view-in-github",
        "colab_type": "text"
      },
      "source": [
        "<a href=\"https://colab.research.google.com/github/ChaitanyaSai11/python/blob/main/python_basics_program_notes.ipynb\" target=\"_parent\"><img src=\"https://colab.research.google.com/assets/colab-badge.svg\" alt=\"Open In Colab\"/></a>"
      ]
    },
    {
      "cell_type": "code",
      "execution_count": null,
      "metadata": {
        "colab": {
          "base_uri": "https://localhost:8080/"
        },
        "id": "QqhwGlYwO0FB",
        "outputId": "d0931f03-4c8c-4dea-ff02-27193131ed19"
      },
      "outputs": [
        {
          "output_type": "stream",
          "name": "stdout",
          "text": [
            "Hello World\n"
          ]
        }
      ],
      "source": [
        "print(\"Hello World\")"
      ]
    },
    {
      "cell_type": "markdown",
      "metadata": {
        "id": "ssLANuQ1WKt1"
      },
      "source": [
        "#keywords  are predefined,reserved words used in python programming\n",
        "#list of keywords true,false,as,is,class,lambda,none,break,global,del,import,for,def......."
      ]
    },
    {
      "cell_type": "markdown",
      "metadata": {
        "id": "3c2dwVFOV7Ka"
      },
      "source": [
        "#identifiers=names are given to variables,classes,methods/function name\n",
        "#rules\n",
        "1.start with letter or underscore\n",
        "2.followed by letters,digits, or underscores\n",
        "3.avoid starting with a Digit\n",
        "4.No special characters\n",
        "5.Case Sensitive(e.g: age,AGE,and Age)\n",
        "6.Avoid using keywords"
      ]
    },
    {
      "cell_type": "code",
      "execution_count": null,
      "metadata": {
        "id": "HVtC9lpfWRin"
      },
      "outputs": [],
      "source": [
        "#variables\n",
        "a=10\n",
        "age=10\n",
        "name=\"Chaitanya\"\n",
        "_name=\"ch\"\n",
        "Total=100.50\n",
        "is_student=True"
      ]
    },
    {
      "cell_type": "code",
      "execution_count": null,
      "metadata": {
        "colab": {
          "base_uri": "https://localhost:8080/"
        },
        "id": "a1f1PAnUBPNM",
        "outputId": "9fbf7e56-7c9c-4ea7-a3bf-8e4261322c74"
      },
      "outputs": [
        {
          "name": "stdout",
          "output_type": "stream",
          "text": [
            "hello world\n",
            "<class 'int'>\n",
            "16\n",
            "11.5\n",
            "10\n",
            "15\n",
            "10.0\n",
            "52\n",
            "True\n",
            "False\n",
            "True\n",
            "97\n"
          ]
        }
      ],
      "source": [
        "print(\"hello world\")\n",
        "a=10\n",
        "#data type\n",
        "print(type(a))\n",
        "b=6\n",
        "c=a+b\n",
        "print(c)\n",
        "d=1.5\n",
        "#type conversion\n",
        "print(float(a+d))\n",
        "e='10'\n",
        "print(int(e))\n",
        "print(int(15.3))\n",
        "print(float(10))\n",
        "print(str(52))\n",
        "print(bool(1))\n",
        "print(bool(0))\n",
        "print(bool(2))\n",
        "#ascii value\n",
        "print(ord(\"a\"))"
      ]
    },
    {
      "cell_type": "code",
      "execution_count": null,
      "metadata": {
        "colab": {
          "base_uri": "https://localhost:8080/"
        },
        "id": "FieNoNYTGS4o",
        "outputId": "1c635b3f-d39c-4373-be39-b7526d16bb82"
      },
      "outputs": [
        {
          "name": "stdout",
          "output_type": "stream",
          "text": [
            "A\n",
            "5\n",
            "3900\n",
            "1.0833333333333333\n",
            "1\n",
            "5\n",
            "5953898114759757583498133232325552989993673976517266254986001716363076818883115493008517660200595855712890625\n",
            "2\n"
          ]
        }
      ],
      "source": [
        "#arithmetic opertors\n",
        "a=65\n",
        "b=60\n",
        "print(chr(a))\n",
        "print(a-b)\n",
        "print(a*b)\n",
        "print(a/b)\n",
        "print(a//b)\n",
        "print(a%b)\n",
        "print(a**b)\n",
        "import math\n",
        "print(math.ceil(a/b))"
      ]
    },
    {
      "cell_type": "code",
      "execution_count": null,
      "metadata": {
        "colab": {
          "base_uri": "https://localhost:8080/"
        },
        "id": "G515wRGxJ1Al",
        "outputId": "3518369d-20e2-43e3-d0d8-603b20a0163f"
      },
      "outputs": [
        {
          "name": "stdout",
          "output_type": "stream",
          "text": [
            "20\n",
            "20\n"
          ]
        }
      ],
      "source": [
        "#assignment operators\n",
        "a=10\n",
        "b=10\n",
        "a=a+b\n",
        "print(a)\n",
        "#(or)\n",
        "a=10\n",
        "b=10\n",
        "a+=b\n",
        "print(a)"
      ]
    },
    {
      "cell_type": "code",
      "execution_count": null,
      "metadata": {
        "colab": {
          "base_uri": "https://localhost:8080/"
        },
        "id": "YTyyEp52KJIR",
        "outputId": "91f29f5a-b642-4389-e0ae-208759270088"
      },
      "outputs": [
        {
          "name": "stdout",
          "output_type": "stream",
          "text": [
            "10\n",
            "100\n",
            "1.0\n",
            "1\n",
            "0\n",
            "10000000000\n"
          ]
        }
      ],
      "source": [
        "a-=b\n",
        "print(a)\n",
        "a=10\n",
        "b=10\n",
        "a*=b\n",
        "print(a)\n",
        "a=10\n",
        "b=10\n",
        "a/=b\n",
        "print(a)\n",
        "a=10\n",
        "b=10\n",
        "a//=b\n",
        "print(a)\n",
        "a=10\n",
        "b=10\n",
        "a%=b\n",
        "print(a)\n",
        "a=10\n",
        "b=10\n",
        "a**=b\n",
        "print(a)"
      ]
    },
    {
      "cell_type": "code",
      "execution_count": null,
      "metadata": {
        "colab": {
          "base_uri": "https://localhost:8080/"
        },
        "id": "q4IWDLptLqB3",
        "outputId": "64bcc1f7-100f-4ef8-a63c-7aefac763f5b"
      },
      "outputs": [
        {
          "name": "stdout",
          "output_type": "stream",
          "text": [
            "False\n",
            "True\n",
            "False\n",
            "True\n",
            "True\n",
            "False\n"
          ]
        }
      ],
      "source": [
        "#comparison operators\n",
        "print(a==b)\n",
        "print(a!=b)\n",
        "print(a<b)\n",
        "print(a>b)\n",
        "print(a>=b)\n",
        "print(a<=b)\n"
      ]
    },
    {
      "cell_type": "code",
      "execution_count": null,
      "metadata": {
        "colab": {
          "base_uri": "https://localhost:8080/"
        },
        "id": "D88MdIacMe5f",
        "outputId": "00ded6a2-d501-47bd-ed8a-63cfa4909e1b"
      },
      "outputs": [
        {
          "name": "stdout",
          "output_type": "stream",
          "text": [
            "True\n",
            "True\n",
            "False\n"
          ]
        }
      ],
      "source": [
        "#logical operators\n",
        "a=10\n",
        "b=15\n",
        "print(a<b and b>10)\n",
        "print(a==10 or b==15)\n",
        "a=True\n",
        "print(not a)\n"
      ]
    },
    {
      "cell_type": "code",
      "execution_count": null,
      "metadata": {
        "colab": {
          "base_uri": "https://localhost:8080/"
        },
        "id": "3svp6o7rPHcB",
        "outputId": "39df9939-0e4b-4877-b6b3-c50156491f8f"
      },
      "outputs": [
        {
          "name": "stdout",
          "output_type": "stream",
          "text": [
            "True\n",
            "False\n"
          ]
        }
      ],
      "source": [
        "#membership operators\n",
        "a=(1,2,3)\n",
        "print(1 in a)\n",
        "print(1 not in a)"
      ]
    },
    {
      "cell_type": "code",
      "execution_count": null,
      "metadata": {
        "colab": {
          "base_uri": "https://localhost:8080/"
        },
        "id": "VWiNgWmZQDXo",
        "outputId": "83be8a96-c29d-42f2-c8a9-82ff451baf0a"
      },
      "outputs": [
        {
          "name": "stdout",
          "output_type": "stream",
          "text": [
            "False\n",
            "True\n",
            "False\n",
            "True\n"
          ]
        }
      ],
      "source": [
        "#identity operators\n",
        "a=(1,2,3)\n",
        "b=(1,2,3,4)\n",
        "print(a is b)\n",
        "print(a is not b)\n",
        "c=\"Chaitanya\"\n",
        "d=\"Satish\"\n",
        "print(c is d)\n",
        "print(c is not d)"
      ]
    },
    {
      "cell_type": "code",
      "execution_count": null,
      "metadata": {
        "colab": {
          "base_uri": "https://localhost:8080/"
        },
        "id": "wRkBs_auSo5k",
        "outputId": "573b6db2-42e6-4673-fd8e-a8bc5441c2ef"
      },
      "outputs": [
        {
          "name": "stdout",
          "output_type": "stream",
          "text": [
            "2\n",
            "3\n",
            "1\n",
            "-3\n",
            "8\n",
            "1\n"
          ]
        }
      ],
      "source": [
        "#bitwise operators(binary only)\n",
        "a=2\n",
        "b=3\n",
        "print(a&b)\n",
        "print(a|b)\n",
        "print(a^b)\n",
        "print(~a)\n",
        "print(a<<2)\n",
        "print(a>>1)"
      ]
    },
    {
      "cell_type": "code",
      "execution_count": null,
      "metadata": {
        "colab": {
          "base_uri": "https://localhost:8080/"
        },
        "id": "16L8Vf2lXSdK",
        "outputId": "c22e626e-c6ea-4f20-b877-fb425523a62a"
      },
      "outputs": [
        {
          "name": "stdout",
          "output_type": "stream",
          "text": [
            "1\n",
            "2\n",
            "1\n",
            "2\n",
            "2\n",
            "3\n",
            "hello 3 chaitanya\n",
            "hello 3 chaitanya\n"
          ]
        }
      ],
      "source": [
        "#input(runtime)\n",
        "\n",
        "a=int(input())\n",
        "b=input()\n",
        "print(a)\n",
        "print(b)\n",
        "print(int(b))\n",
        "c=input()\n",
        "print(\"hello \" + c + \" chaitanya\") #concatination\n",
        "print(\"hello\",c,\"chaitanya\")"
      ]
    },
    {
      "cell_type": "code",
      "execution_count": null,
      "metadata": {
        "colab": {
          "base_uri": "https://localhost:8080/"
        },
        "id": "6S7Nv7o2bFJn",
        "outputId": "2f771d2c-71a5-4328-b88e-f08b444afc89"
      },
      "outputs": [
        {
          "name": "stdout",
          "output_type": "stream",
          "text": [
            "1 2 3\n",
            "1,2,3\n",
            "1,2,3.10,10\n",
            "10 , 10 , 12 , 15\n",
            "10 10 12 15."
          ]
        }
      ],
      "source": [
        "#output\n",
        "a=(1,2,3)\n",
        "print(*a)\n",
        "print(*a,sep=\",\")\n",
        "print(*a,sep=\",\",end=\".\")\n",
        "a=10\n",
        "b=10\n",
        "c=12\n",
        "d=15\n",
        "print(a,b,sep=\",\")\n",
        "print(a,b,c,d,sep=\" , \")\n",
        "print(a,b,c,d, end=\".\")"
      ]
    },
    {
      "cell_type": "code",
      "execution_count": null,
      "metadata": {
        "colab": {
          "base_uri": "https://localhost:8080/"
        },
        "id": "D1BWFlbncOqp",
        "outputId": "ad90cc54-710b-436f-e28b-f5372424b17f"
      },
      "outputs": [
        {
          "name": "stdout",
          "output_type": "stream",
          "text": [
            "chaitanya\n",
            "Hello,chaitanya!5\n",
            "You entered:5\n",
            "2.5\n",
            "value of a:2.5\n"
          ]
        }
      ],
      "source": [
        "#examples\n",
        "a=input()\n",
        "print(\"Hello\",a,sep=\",\",end=\"!\")\n",
        "a=int(input())\n",
        "print(\"You entered:\",a,sep=\"\")\n",
        "a=float(input())\n",
        "print(\"value of a:\",a,sep=\"\")"
      ]
    },
    {
      "cell_type": "code",
      "execution_count": null,
      "metadata": {
        "colab": {
          "base_uri": "https://localhost:8080/"
        },
        "id": "eOOlXKdoehUl",
        "outputId": "0da39aaa-20d7-4d1b-c72d-d84663169d4c"
      },
      "outputs": [
        {
          "name": "stdout",
          "output_type": "stream",
          "text": [
            "1 2 3\n",
            "123\n",
            "1\n",
            "6\n"
          ]
        }
      ],
      "source": [
        "#split examples\n",
        "a=input()\n",
        "a.split(' ')\n",
        "a,b,c=a.split(' ')\n",
        "print(a+b+c)\n",
        "print(a)\n",
        "\n",
        "#split and add\n",
        "sum=int(a)+int(b)+int(c)\n",
        "print(sum)"
      ]
    },
    {
      "cell_type": "code",
      "execution_count": null,
      "metadata": {
        "colab": {
          "base_uri": "https://localhost:8080/"
        },
        "id": "qfXIivvGguAf",
        "outputId": "1c13035a-de1b-4640-9a72-f4f06a6e5330"
      },
      "outputs": [
        {
          "name": "stdout",
          "output_type": "stream",
          "text": [
            "chaitanya,25\n",
            "Name:chaitanya,Age:25\n"
          ]
        }
      ],
      "source": [
        "'''expected input :\"chaitanya\",24\n",
        "output: \"Name:chaitanya,Age:25\" '''\n",
        "a=input()\n",
        "b,c=a.split(\",\")\n",
        "print(\"Name:\",b,\",Age:\",c,sep=\"\")"
      ]
    },
    {
      "cell_type": "code",
      "execution_count": null,
      "metadata": {
        "colab": {
          "base_uri": "https://localhost:8080/"
        },
        "id": "r8UJQNnjkvef",
        "outputId": "0b62f28b-9f49-481f-93ec-f59d8d2b0113"
      },
      "outputs": [
        {
          "name": "stdout",
          "output_type": "stream",
          "text": [
            "10,5\n",
            "Addition:15,Subtraction:5,Multiplication:50,Division:2.0\n"
          ]
        }
      ],
      "source": [
        "'''expected input:10,5\n",
        "output : Addition:15,subtraction:5,multiplication:50,division:2.0'''\n",
        "a=input()\n",
        "a,b=a.split(',')\n",
        "\n",
        "print(\"Addition:\",int(a)+int(b),\",Subtraction:\",int(a)-int(b),\",Multiplication:\",int(a)*int(b),\",Division:\",float(int(a)/int(b)),sep=\"\")\n"
      ]
    },
    {
      "cell_type": "code",
      "execution_count": null,
      "metadata": {
        "colab": {
          "base_uri": "https://localhost:8080/"
        },
        "id": "KJdDL47-mxnr",
        "outputId": "34691342-6e90-42d0-aec4-fbb90b4599ba"
      },
      "outputs": [
        {
          "name": "stdout",
          "output_type": "stream",
          "text": [
            "10,5\n",
            "Addition:15,Subtraction:5,Multiplication:50,Division:2.0\n"
          ]
        }
      ],
      "source": [
        "#or\n",
        "a=input()\n",
        "a,b=a.split(',')\n",
        "a=int(a)\n",
        "b=int(b)\n",
        "print(\"Addition:\",a+b,\",Subtraction:\",a-b,\",Multiplication:\",a*b,\",Division:\",float(a/b),sep=\"\")\n"
      ]
    },
    {
      "cell_type": "code",
      "execution_count": null,
      "metadata": {
        "colab": {
          "base_uri": "https://localhost:8080/"
        },
        "id": "ZYe_AdVinmYx",
        "outputId": "4e3a1451-2c0d-4b9a-cf6d-22b5cd8414e6"
      },
      "outputs": [
        {
          "name": "stdout",
          "output_type": "stream",
          "text": [
            "chaitanya,25\n",
            "Name:chaitanya,Age:25 years\n"
          ]
        }
      ],
      "source": [
        "#using formating\n",
        "'''expected input;\"chaitanya\",25\n",
        "output:\"Name:Chaitanya,Age:25 years\"'''\n",
        "a=input()\n",
        "a,b=a.split(',')\n",
        "print(f\"Name:{a},Age:{b} years\")"
      ]
    },
    {
      "cell_type": "code",
      "execution_count": null,
      "metadata": {
        "colab": {
          "base_uri": "https://localhost:8080/"
        },
        "id": "K9ubyD9Xp8Td",
        "outputId": "bda1b236-1db7-44fb-9ca0-407c66aaf595"
      },
      "outputs": [
        {
          "name": "stdout",
          "output_type": "stream",
          "text": [
            "Roots:(2.0, 1.0)\n"
          ]
        }
      ],
      "source": [
        "#quadratic equation\n",
        "a=1\n",
        "b=-3\n",
        "c=2\n",
        "d=math.sqrt((b**2)-4*a*c)\n",
        "e=(-b+d)/2*a\n",
        "f=(-b-d)/2*a\n",
        "print(f\"Roots:{e,f}\")"
      ]
    },
    {
      "cell_type": "code",
      "execution_count": null,
      "metadata": {
        "colab": {
          "base_uri": "https://localhost:8080/"
        },
        "id": "ANTdFjnTrXxi",
        "outputId": "c0c37de2-b262-4885-8fb6-b52042f1be56"
      },
      "outputs": [
        {
          "name": "stdout",
          "output_type": "stream",
          "text": [
            "20\n",
            "10\n",
            "20\n",
            "10\n"
          ]
        }
      ],
      "source": [
        "#swapping\n",
        "a=10\n",
        "b=20\n",
        "a=a+b\n",
        "b=a-b\n",
        "a=a-b\n",
        "print(a)\n",
        "print(b)\n",
        "\n",
        "#using temp\n",
        "a=10\n",
        "b=20\n",
        "temp=a\n",
        "a=b\n",
        "b=temp\n",
        "print(a)\n",
        "print(b)"
      ]
    },
    {
      "cell_type": "code",
      "execution_count": null,
      "metadata": {
        "colab": {
          "base_uri": "https://localhost:8080/"
        },
        "id": "BwZUznjxswJN",
        "outputId": "166ccb3b-1dd5-4919-a27b-51f663a48897"
      },
      "outputs": [
        {
          "name": "stdout",
          "output_type": "stream",
          "text": [
            "86.0\n",
            "303.15\n"
          ]
        }
      ],
      "source": [
        "#converting temperatures\n",
        "#input; celsius=30\n",
        "#output : fahrenheit :86.0\n",
        "#kelvin:303.15\n",
        "c=30\n",
        "f=c*(9/5)+32\n",
        "print(f)\n",
        "k=273.15+c\n",
        "print((k))\n"
      ]
    },
    {
      "cell_type": "code",
      "execution_count": null,
      "metadata": {
        "colab": {
          "base_uri": "https://localhost:8080/"
        },
        "id": "hNC9d3mpy9OQ",
        "outputId": "1bc1c5d4-bf94-4dc5-cc40-bc81b9d2c002"
      },
      "outputs": [
        {
          "name": "stdout",
          "output_type": "stream",
          "text": [
            "1. Celsius to Fahrenheit\n",
            "2. Fahrenheit to Celsius\n",
            "0. Quit\n",
            "Enter your  choice:1\n",
            "Enter temperature in celsius:25\n",
            "77.0 F\n",
            "1. Celsius to Fahrenheit\n",
            "2. Fahrenheit to Celsius\n",
            "0. Quit\n",
            "Enter your  choice:0\n",
            "Exiting the program\n"
          ]
        }
      ],
      "source": [
        "'''Write a temperature converter program, which is menu driven.\n",
        "Each such on version logic should be defined in separate functions.\n",
        "The program should call the respective function based on the user’s requirement.\n",
        "The program should run as long as the user wishes so.\n",
        "Define 3 serprate functions: celsius_to_fahrenheit, fahrenheit_to_celsius, show_menu.\n",
        "celsius_to_fahrenheit: This function should contain logic for Celsius to Fahrenheit conversion.  F = (C * 9/5)+32\n",
        "fahrenheit_to_celsius: This function should contain logic for Fahrenheit to Celsius conversion. C = (f -32)* 5/9\n",
        "show_menu: This function should display the menu and the input for the choice from the user.\n",
        "\tMenu:\n",
        "\n",
        "\t1. Celsius to Fahrenheit\n",
        "\t2. Fahrenheit to Celsius\n",
        "\t0. Quit\n",
        "\n",
        "If user enters 1 it should take input from user the temperature in Celsius and call the celsius_to_fahrenheit() to convert the entered temperature into Fahrenheit.\n",
        "If user enters 2 it should take input from user the temperature in Fahrenheit and call the fahrenheit_to_celsius() to convert the entered temperature into Celsius.\n",
        "If user enters 0 it should print the text \"Exiting the program.\" and stop execution.\n",
        "for any other input other than 1, 2, or 0 it should print \"Invalid choice. Please select a valid option.\"\n",
        "Sample Execution:\n",
        "1. Celsius to Fahrenheit\n",
        "2. Fahrenheit to Celsius\n",
        "0. Quit\n",
        "Enter your choice: 1\n",
        "Enter temperature in Celsius: 87\n",
        "188.6 F\n",
        "1. Celsius to Fahrenheit\n",
        "2. Fahrenheit to Celsius\n",
        "0. Quit\n",
        "Enter your choice: 0\n",
        "Exiting the program.'''\n",
        "\n",
        "def convertCtoF(C):\n",
        "    F = (C * 9/5)+32\n",
        "    return F\n",
        "def convertFtoC(F):\n",
        "    C = (F -32)* 5/9\n",
        "    return C\n",
        "def showMenu():\n",
        "    print(\"1. Celsius to Fahrenheit\")\n",
        "    print(\"2. Fahrenheit to Celsius\")\n",
        "    print(\"0. Quit\")\n",
        "    ch=float(input(\"Enter your  choice:\"))\n",
        "    return ch\n",
        "\n",
        "flag=0\n",
        "while(flag==0):\n",
        "    choice=showMenu()\n",
        "\n",
        "    if (choice==1):\n",
        "        cel = float(input(\"Enter temperature in celsius:\"))\n",
        "        resultc = convertCtoF(cel)\n",
        "        print(resultc,\"F\")\n",
        "    elif (choice==2):\n",
        "        Far = float(input(\"Enter temperature in Fahrenheit:\"))\n",
        "        resultf = convertFtoC(Far)\n",
        "        print(resultf,\"C\")\n",
        "    elif (choice==0):\n",
        "        print (\"Exiting the program\")\n",
        "        flag=1\n",
        "    else:\n",
        "        print(\"invalid choice.Please select a valid option\")"
      ]
    },
    {
      "cell_type": "code",
      "execution_count": null,
      "metadata": {
        "colab": {
          "base_uri": "https://localhost:8080/"
        },
        "id": "8RIRXQtytnHu",
        "outputId": "d1ff265e-170d-407c-8eb0-e4b71adbc827"
      },
      "outputs": [
        {
          "name": "stdout",
          "output_type": "stream",
          "text": [
            "8500\n",
            "1.1764705882352942\n",
            "85.0\n"
          ]
        }
      ],
      "source": [
        "#converting currency\n",
        "#input:usd=100(exchange rate for 1rs=85)\n",
        "dollar=100\n",
        "rupees=dollar*85\n",
        "print(rupees)\n",
        "\n",
        "rupees=100\n",
        "dollar=rupees/85\n",
        "print(dollar)\n",
        "\n",
        "dollar=100\n",
        "_1dollar_in_euro=0.85\n",
        "euro=dollar*_1dollar_in_euro\n",
        "print(euro)\n",
        "\n"
      ]
    },
    {
      "cell_type": "markdown",
      "metadata": {
        "id": "8BtEoszC2tza"
      },
      "source": [
        "Conditional statements\n"
      ]
    },
    {
      "cell_type": "code",
      "execution_count": null,
      "metadata": {
        "colab": {
          "base_uri": "https://localhost:8080/"
        },
        "id": "PTJHTmxP2SGp",
        "outputId": "73d5c205-c8a9-47e1-d2ed-d57fea4803d1"
      },
      "outputs": [
        {
          "name": "stdout",
          "output_type": "stream",
          "text": [
            "a is greater than 5\n"
          ]
        }
      ],
      "source": [
        "#if\n",
        "a=10\n",
        "if(a>5):\n",
        "  print(\"a is greater than 5\")"
      ]
    },
    {
      "cell_type": "code",
      "execution_count": null,
      "metadata": {
        "id": "vfGQSsJR2zi2"
      },
      "outputs": [],
      "source": [
        "a=10\n",
        "if(a<5):\n",
        "  print(\"a\")"
      ]
    },
    {
      "cell_type": "code",
      "execution_count": null,
      "metadata": {
        "colab": {
          "base_uri": "https://localhost:8080/"
        },
        "id": "k3H7Qh8e3jIT",
        "outputId": "ddf4863f-f669-4f95-e1d7-082bcf526f54"
      },
      "outputs": [
        {
          "name": "stdout",
          "output_type": "stream",
          "text": [
            " a is divisible by 2\n",
            "a is number\n"
          ]
        }
      ],
      "source": [
        "a=10\n",
        "if(a%2==0):\n",
        "  print(\" a is divisible by 2\")\n",
        "print(\"a is number\")"
      ]
    },
    {
      "cell_type": "code",
      "execution_count": null,
      "metadata": {
        "colab": {
          "base_uri": "https://localhost:8080/"
        },
        "id": "3WNbFlo129Ut",
        "outputId": "73fc6cf8-b749-41f7-b64a-31d35ffe9dae"
      },
      "outputs": [
        {
          "name": "stdout",
          "output_type": "stream",
          "text": [
            " a is divisible by 2\n"
          ]
        }
      ],
      "source": [
        "#if else\n",
        "a=10\n",
        "if(a%2==0):\n",
        "  print(\" a is divisible by 2\")\n",
        "else:\n",
        "  print(\"a is not divisible by 2\")"
      ]
    },
    {
      "cell_type": "code",
      "execution_count": null,
      "metadata": {
        "id": "HGYzH2xM4Be4"
      },
      "outputs": [],
      "source": [
        "a=10\n",
        "if(a%2==0):\n",
        "  print(\" a is divisible by 2\")\n",
        "else:\n",
        "  print(\"a is not divisible by 2\")"
      ]
    },
    {
      "cell_type": "code",
      "execution_count": null,
      "metadata": {
        "colab": {
          "base_uri": "https://localhost:8080/"
        },
        "id": "5Tzr11sD70YO",
        "outputId": "8ec114d1-ec9c-4329-f372-24ae12b78ffa"
      },
      "outputs": [
        {
          "name": "stdout",
          "output_type": "stream",
          "text": [
            "35\n",
            "a is not divisible by 2&3\n"
          ]
        }
      ],
      "source": [
        "#if elif else\n",
        "a=int(input())\n",
        "if(a%2==0):\n",
        "  print(\" a is divisible by 2\")\n",
        "elif(a%3==0):\n",
        "  print(\"a is not divisible by 3\")\n",
        "else:\n",
        "  print(\"a is not divisible by 2&3\")"
      ]
    },
    {
      "cell_type": "code",
      "execution_count": null,
      "metadata": {
        "colab": {
          "base_uri": "https://localhost:8080/"
        },
        "id": "rgUpy4ar-pb2",
        "outputId": "04b50d80-5021-4f21-f6eb-3d54dd24e5c4"
      },
      "outputs": [
        {
          "name": "stdout",
          "output_type": "stream",
          "text": [
            "not divisible\n"
          ]
        }
      ],
      "source": [
        "#nested if\n",
        "a=9\n",
        "if(a%2==0):\n",
        "  if(a%5==0):\n",
        "    print(\"a is divisible by both 2&5\")\n",
        "else:\n",
        "  print(\"not divisible\")"
      ]
    },
    {
      "cell_type": "code",
      "execution_count": null,
      "metadata": {
        "colab": {
          "base_uri": "https://localhost:8080/"
        },
        "id": "z9Lm8h0z_PMz",
        "outputId": "78b6a608-954c-41db-bd24-516c6f1e0710"
      },
      "outputs": [
        {
          "name": "stdout",
          "output_type": "stream",
          "text": [
            "not divisible\n"
          ]
        }
      ],
      "source": [
        "#without using nested if\n",
        "a=9\n",
        "if(a%2==0)and(a%5==0):\n",
        "    print(\"a is divisible by both 2&5\")\n",
        "else:\n",
        "  print(\"not divisible\")"
      ]
    },
    {
      "cell_type": "code",
      "execution_count": null,
      "metadata": {
        "colab": {
          "base_uri": "https://localhost:8080/"
        },
        "id": "LFbR2PcI_5h4",
        "outputId": "e40f8c91-0d57-4763-a877-e28aad147ccc"
      },
      "outputs": [
        {
          "name": "stdout",
          "output_type": "stream",
          "text": [
            "/\n",
            "2.0\n"
          ]
        }
      ],
      "source": [
        "a=10\n",
        "b=5\n",
        "operation=input()\n",
        "if (operation==\"+\"):\n",
        "  print(a+b)\n",
        "elif(operation==\"-\"):\n",
        "  print(a-b)\n",
        "elif(operation=='*'):\n",
        "  print(a*b)\n",
        "else:\n",
        "  print(a/b)"
      ]
    },
    {
      "cell_type": "markdown",
      "metadata": {
        "id": "OtMABZA3EloA"
      },
      "source": [
        "Strings\n"
      ]
    },
    {
      "cell_type": "code",
      "execution_count": null,
      "metadata": {
        "colab": {
          "base_uri": "https://localhost:8080/"
        },
        "id": "y5Q-hLQFEnd8",
        "outputId": "a3c27910-20ad-4880-d42d-9d12b073ed7f"
      },
      "outputs": [
        {
          "name": "stdout",
          "output_type": "stream",
          "text": [
            "C\n",
            "Chaitanya\n"
          ]
        }
      ],
      "source": [
        "a=\"Chaitanya\"\n",
        "print(a[0])\n",
        "print(a)"
      ]
    },
    {
      "cell_type": "code",
      "execution_count": null,
      "metadata": {
        "colab": {
          "base_uri": "https://localhost:8080/"
        },
        "id": "P6ADC05oEwYd",
        "outputId": "ac7cc681-cbe0-4fe7-f959-6747721fe91a"
      },
      "outputs": [
        {
          "name": "stdout",
          "output_type": "stream",
          "text": [
            "a\n"
          ]
        }
      ],
      "source": [
        "print(a[-1])"
      ]
    },
    {
      "cell_type": "code",
      "execution_count": null,
      "metadata": {
        "colab": {
          "base_uri": "https://localhost:8080/"
        },
        "id": "XhpxXw0NE0Vc",
        "outputId": "b0ae0e2a-a00b-4167-bb78-2fdebb130c82"
      },
      "outputs": [
        {
          "name": "stdout",
          "output_type": "stream",
          "text": [
            "C\n",
            "haitany\n",
            "aynatiahC\n"
          ]
        }
      ],
      "source": [
        "print(a[0:1])\n",
        "print(a[1:-1])\n",
        "print(a[::-1])"
      ]
    },
    {
      "cell_type": "code",
      "execution_count": null,
      "metadata": {
        "colab": {
          "base_uri": "https://localhost:8080/"
        },
        "id": "o-6nK1Le39HO",
        "outputId": "38be27f7-e24d-49ab-f915-d7cc99141b4f"
      },
      "outputs": [
        {
          "name": "stdout",
          "output_type": "stream",
          "text": [
            "cha\n"
          ]
        }
      ],
      "source": [
        "a=\"chaitanya\"\n",
        "print(a[slice(3)])"
      ]
    },
    {
      "cell_type": "code",
      "execution_count": null,
      "metadata": {
        "colab": {
          "base_uri": "https://localhost:8080/"
        },
        "id": "1ByffV9OKssU",
        "outputId": "3b4ce721-2361-4391-8039-65fa2651bce9"
      },
      "outputs": [
        {
          "name": "stdout",
          "output_type": "stream",
          "text": [
            "Chaitanya Sai\n"
          ]
        }
      ],
      "source": [
        "name1=\"Chaitanya\"\n",
        "name2=\"Sai\"\n",
        "print(name1+\" \"+name2)"
      ]
    },
    {
      "cell_type": "code",
      "execution_count": null,
      "metadata": {
        "colab": {
          "base_uri": "https://localhost:8080/"
        },
        "id": "MWf6UY-SLKDE",
        "outputId": "8ef1bf7a-91e3-4f03-e98b-31ba28f3ae5f"
      },
      "outputs": [
        {
          "name": "stdout",
          "output_type": "stream",
          "text": [
            "23\n"
          ]
        }
      ],
      "source": [
        "a=\"Chaitanya Sai Durga Rao\"\n",
        "print(len(a))"
      ]
    },
    {
      "cell_type": "code",
      "execution_count": null,
      "metadata": {
        "colab": {
          "base_uri": "https://localhost:8080/"
        },
        "id": "ojU0zSlBpC_-",
        "outputId": "9c629935-3010-4d94-9d80-e83023742dad"
      },
      "outputs": [
        {
          "name": "stdout",
          "output_type": "stream",
          "text": [
            "chaitanya sai\n",
            "Chaitanya sai\n",
            "CHAITANYA SAI\n",
            "chaitanya sai\n",
            "cHAITANYA sAI\n",
            "4\n",
            "      Chaitanya Sai      \n",
            "2\n",
            "2\n",
            "True\n",
            "False\n",
            "False\n",
            "False\n",
            "False\n",
            "True\n",
            "False\n",
            "False\n",
            "False\n",
            "True\n",
            "Chiitinyi Sii\n"
          ]
        }
      ],
      "source": [
        "#string functions or methods\n",
        "a=\"Chaitanya Sai\"\n",
        "print(a.casefold())#all small\n",
        "print(a.capitalize())#first letter capital\n",
        "print(a.upper())\n",
        "print(a.lower())\n",
        "print(a.swapcase())\n",
        "print(a.count(\"a\"))\n",
        "print(a.center(25))\n",
        "print(a.find(\"a\"))\n",
        "print(a.index(\"a\"))\n",
        "print(a.endswith(\"ai\"))\n",
        "print(a.isalpha())\n",
        "print(a.isalpha())\n",
        "print(a.isnumeric())\n",
        "print(a.isdigit())\n",
        "print(a.isprintable())\n",
        "print(a.isupper())\n",
        "print(a.islower())\n",
        "print(a.isspace())#empty string\n",
        "print(a.istitle())#start with uppercase end eith lower case\n",
        "print(a.replace(\"a\",\"i\"))"
      ]
    },
    {
      "cell_type": "code",
      "execution_count": null,
      "metadata": {
        "colab": {
          "base_uri": "https://localhost:8080/"
        },
        "id": "Rcua37-zptbK",
        "outputId": "0287800e-da5e-416e-9827-3f3ee03ab268"
      },
      "outputs": [
        {
          "name": "stdout",
          "output_type": "stream",
          "text": [
            "C  h  a\n"
          ]
        }
      ],
      "source": [
        "a=\"C\\th\\ta\"\n",
        "print(a.expandtabs(3))"
      ]
    },
    {
      "cell_type": "code",
      "execution_count": null,
      "metadata": {
        "colab": {
          "background_save": true
        },
        "id": "sZWPbRo-se-m",
        "outputId": "02f37ad6-1179-415b-eeae-9df5aea88183"
      },
      "outputs": [
        {
          "name": "stdout",
          "output_type": "stream",
          "text": [
            "chai\\tanya\n"
          ]
        }
      ],
      "source": [
        "#escape sequence\n",
        "a=\"chai\\\\tanya\"\n",
        "print(a)"
      ]
    },
    {
      "cell_type": "code",
      "execution_count": null,
      "metadata": {
        "colab": {
          "base_uri": "https://localhost:8080/"
        },
        "id": "KhfUtTi0D6Km",
        "outputId": "b04d4507-be60-4902-8ab4-65052e1e2e89"
      },
      "outputs": [
        {
          "name": "stdout",
          "output_type": "stream",
          "text": [
            "Chaitanya's program\n",
            "Chaitanya\"s program\n"
          ]
        }
      ],
      "source": [
        "a='Chaitanya\\'s program' #single quote : \\'\n",
        "print(a)\n",
        "a=\"Chaitanya\\\"s program\" #double quote : \\\"\n",
        "print(a)"
      ]
    },
    {
      "cell_type": "code",
      "execution_count": null,
      "metadata": {
        "colab": {
          "base_uri": "https://localhost:8080/"
        },
        "id": "PCPKMqaTElxm",
        "outputId": "ffca02f8-35c2-4153-9d6e-b6a73558c0a4"
      },
      "outputs": [
        {
          "name": "stdout",
          "output_type": "stream",
          "text": [
            "Chaitnaya\n",
            "Sai\n"
          ]
        }
      ],
      "source": [
        "a=\"Chaitnaya\\nSai\" #new line(line break)\n",
        "print(a)"
      ]
    },
    {
      "cell_type": "code",
      "execution_count": null,
      "metadata": {
        "colab": {
          "base_uri": "https://localhost:8080/"
        },
        "id": "ICotW9-mE4VR",
        "outputId": "914c2555-120a-4931-dd11-9590fd5a3350"
      },
      "outputs": [
        {
          "name": "stdout",
          "output_type": "stream",
          "text": [
            "Chaitanya\ts program\n"
          ]
        }
      ],
      "source": [
        "a='Chaitanya\\ts program' #tab\n",
        "print(a)"
      ]
    },
    {
      "cell_type": "code",
      "execution_count": null,
      "metadata": {
        "colab": {
          "base_uri": "https://localhost:8080/"
        },
        "id": "TV2wGIT2E-Df",
        "outputId": "514607a8-0666-41d1-c10e-e6155899cd57"
      },
      "outputs": [
        {
          "name": "stdout",
          "output_type": "stream",
          "text": [
            "Chaitanya\rs program\n"
          ]
        }
      ],
      "source": [
        "a='Chaitanya\\rs program' #carriage return (used for some text file formats)\n",
        "print(a)"
      ]
    },
    {
      "cell_type": "code",
      "execution_count": null,
      "metadata": {
        "colab": {
          "base_uri": "https://localhost:8080/"
        },
        "id": "FS5yhqGDFJRZ",
        "outputId": "da3eb457-0b36-48cd-90a7-cf71ab10e19f"
      },
      "outputs": [
        {
          "name": "stdout",
          "output_type": "stream",
          "text": [
            "Chaitanya\bs program\n"
          ]
        }
      ],
      "source": [
        "a='Chaitanya\\bs program' #backspace\n",
        "print(a)"
      ]
    },
    {
      "cell_type": "code",
      "execution_count": null,
      "metadata": {
        "colab": {
          "base_uri": "https://localhost:8080/"
        },
        "id": "DicsHtgLFQCL",
        "outputId": "1c67c7cf-9e05-412d-946c-dd72f107d272"
      },
      "outputs": [
        {
          "name": "stdout",
          "output_type": "stream",
          "text": [
            "Chaitanya\fs program\n"
          ]
        }
      ],
      "source": [
        "a='Chaitanya\\fs program' #form feed(used for some text file formats)\n",
        "print(a)"
      ]
    },
    {
      "cell_type": "code",
      "execution_count": null,
      "metadata": {
        "colab": {
          "base_uri": "https://localhost:8080/"
        },
        "id": "ApDWOtFVFceH",
        "outputId": "635d902d-7e0b-490a-b5bd-e1d6613a14e5"
      },
      "outputs": [
        {
          "name": "stdout",
          "output_type": "stream",
          "text": [
            "Chaitanya\u000bs program\n"
          ]
        }
      ],
      "source": [
        "a='Chaitanya\\vs program' #vetical tab (rarely used)\n",
        "print(a)"
      ]
    },
    {
      "cell_type": "code",
      "execution_count": null,
      "metadata": {
        "colab": {
          "base_uri": "https://localhost:8080/"
        },
        "id": "2SKfvF4pFoXy",
        "outputId": "b58417f2-2fa2-4ba3-d457-d9c046d2a604"
      },
      "outputs": [
        {
          "name": "stdout",
          "output_type": "stream",
          "text": [
            "Chaitanya Sai\n",
            "6\n"
          ]
        }
      ],
      "source": [
        "#counting vowels\n",
        "a=input()\n",
        "a=a.lower()\n",
        "print(a.count(\"a\")+a.count(\"e\")+a.count(\"i\")+a.count(\"o\")+a.count(\"u\"))\n"
      ]
    },
    {
      "cell_type": "code",
      "execution_count": null,
      "metadata": {
        "colab": {
          "base_uri": "https://localhost:8080/"
        },
        "id": "cNetnyxMGO9j",
        "outputId": "f1e95a45-2827-4e6a-8b4b-5e2f207cdf96"
      },
      "outputs": [
        {
          "name": "stdout",
          "output_type": "stream",
          "text": [
            "Marks in Math:19\n",
            "Marks in Science:25\n",
            "Marks in English:32\n",
            "Total Marks:76\n",
            "25.333333333333332\n",
            "Fail\n"
          ]
        }
      ],
      "source": [
        "#grade calculator\n",
        "a=int(input(\"Marks in Math:\"))\n",
        "b=int(input(\"Marks in Science:\"))\n",
        "c=int(input(\"Marks in English:\"))\n",
        "print(f\"Total Marks:{a+b+c}\")\n",
        "d=(a+b+c)/3\n",
        "print(d)\n",
        "if d>90:\n",
        "  print(\"A+\")\n",
        "elif d>80:\n",
        "  print(\"A\")\n",
        "elif d>70:\n",
        "  print(\"B\")\n",
        "else:\n",
        "  print(\"Fail\")"
      ]
    },
    {
      "cell_type": "code",
      "execution_count": null,
      "metadata": {
        "colab": {
          "base_uri": "https://localhost:8080/"
        },
        "id": "_vUDFU6pHf79",
        "outputId": "f83eb460-929c-4beb-d3a0-442fe43dd3b8"
      },
      "outputs": [
        {
          "name": "stdout",
          "output_type": "stream",
          "text": [
            "023\n",
            "not palindrome\n"
          ]
        }
      ],
      "source": [
        "#palindrome\n",
        "a=input()\n",
        "b=a[::-1]\n",
        "if a==b:\n",
        "  print(\"Palindrome\")\n",
        "else:\n",
        "  print(\"not palindrome\")"
      ]
    },
    {
      "cell_type": "code",
      "execution_count": null,
      "metadata": {
        "colab": {
          "base_uri": "https://localhost:8080/"
        },
        "id": "0LSR1024Hy7D",
        "outputId": "0a2a6eba-9088-43fb-b951-b709e0e5fd08"
      },
      "outputs": [
        {
          "name": "stdout",
          "output_type": "stream",
          "text": [
            "15,20,25\n",
            "25\n"
          ]
        }
      ],
      "source": [
        "#largest of three numbers\n",
        "a=input() #input:15,20,25\n",
        "a,b,c=a.split(\",\")\n",
        "a=int(a)\n",
        "b=int(b)\n",
        "c=int(c)\n",
        "if (a>b) and (a>c):\n",
        "  print(a)\n",
        "elif (b>c) and (b>a):\n",
        "  print(b)\n",
        "else:\n",
        "  print(c)\n"
      ]
    },
    {
      "cell_type": "code",
      "execution_count": null,
      "metadata": {
        "colab": {
          "base_uri": "https://localhost:8080/"
        },
        "id": "LRuK_8l3H53a",
        "outputId": "cb64cd37-bce1-4915-8444-1baa0fad9d1e"
      },
      "outputs": [
        {
          "name": "stdout",
          "output_type": "stream",
          "text": [
            "4\n",
            "True\n"
          ]
        }
      ],
      "source": [
        "#leap year\n",
        "a=int(input())\n",
        "if ((a%4==0)and(a%100!=0)) or (a%400==0):\n",
        "  print(True)\n",
        "else:\n",
        "  print(False)\n"
      ]
    },
    {
      "cell_type": "code",
      "execution_count": null,
      "metadata": {
        "colab": {
          "base_uri": "https://localhost:8080/"
        },
        "id": "mvFF7fiZJeSo",
        "outputId": "0340c41e-2e1f-4766-e663-fb41f2c3277d"
      },
      "outputs": [
        {
          "name": "stdout",
          "output_type": "stream",
          "text": [
            "Enter temperature:32\n",
            "k\n",
            "C: -241.14999999999998\n",
            "F: -402.07\n"
          ]
        }
      ],
      "source": [
        "#temperature converter\n",
        "a=int(input(\"Enter temperature:\"))\n",
        "b=input()\n",
        "if (b==\"c\"):\n",
        "  print(\"F:\",a*(9/5)+32)\n",
        "  print(\"K:\",273.15+a)\n",
        "elif (b==\"f\"):\n",
        "  c=(a-32)*(5/9)\n",
        "  print(\"C:\",(a-32)*(5/9))\n",
        "  print(\"K:\",273.15+c)\n",
        "elif (b==\"k\"):\n",
        "  c=a-273.15\n",
        "  print(\"C:\",a-273.15)\n",
        "  print(\"F:\",c*(9/5)+32)\n"
      ]
    },
    {
      "cell_type": "markdown",
      "metadata": {
        "id": "Gpy-MWpcsNgY"
      },
      "source": [
        "loops"
      ]
    },
    {
      "cell_type": "code",
      "execution_count": null,
      "metadata": {
        "colab": {
          "base_uri": "https://localhost:8080/"
        },
        "id": "POGTsG_4sMfN",
        "outputId": "f1cf9414-fa6c-4e4f-b93f-724ff7fa1788"
      },
      "outputs": [
        {
          "name": "stdout",
          "output_type": "stream",
          "text": [
            "10\n",
            "9\n",
            "8\n",
            "7\n",
            "6\n",
            "5\n",
            "4\n",
            "3\n",
            "2\n",
            "1\n"
          ]
        }
      ],
      "source": [
        "#distributing chocolates in a class\n",
        "candies=10\n",
        "while candies>0:\n",
        "  print(candies)\n",
        "  candies -=1"
      ]
    },
    {
      "cell_type": "code",
      "execution_count": null,
      "metadata": {
        "colab": {
          "base_uri": "https://localhost:8080/"
        },
        "id": "fCncZ2SSssnv",
        "outputId": "afbdf74f-d897-4ebe-a895-a5ec46130411"
      },
      "outputs": [
        {
          "name": "stdout",
          "output_type": "stream",
          "text": [
            "1\n",
            "2\n",
            "3\n",
            "4\n",
            "5\n",
            "6\n",
            "7\n",
            "8\n",
            "9\n"
          ]
        }
      ],
      "source": [
        "candies =10\n",
        "for i in range(1,candies):\n",
        "  print(i)"
      ]
    },
    {
      "cell_type": "code",
      "execution_count": null,
      "metadata": {
        "colab": {
          "base_uri": "https://localhost:8080/"
        },
        "id": "g_b2aN3M4Kxf",
        "outputId": "f18f1878-988e-4a71-ecda-3cc7b7a4eb37"
      },
      "outputs": [
        {
          "name": "stdout",
          "output_type": "stream",
          "text": [
            "Giving a candy to a friend\n",
            "Giving a candy to a friend\n",
            "Giving a candy to a friend\n",
            "Giving a candy to a friend\n",
            "only 5 candies left.skipping this turn\n",
            "Giving a candy to a friend\n",
            "Giving a candy to a friend\n",
            "Giving a candy to a friend\n",
            "Giving a candy to a friend\n"
          ]
        }
      ],
      "source": [
        "candies=10\n",
        "for i in range(1,candies):#check if there are only 5 candies to a friend\n",
        "  if i==5:\n",
        "    print(\"only 5 candies left.skipping this turn\")\n",
        "    continue\n",
        "  print(\"Giving a candy to a friend\")"
      ]
    },
    {
      "cell_type": "code",
      "execution_count": null,
      "metadata": {
        "colab": {
          "base_uri": "https://localhost:8080/"
        },
        "id": "SxuAAJAB53pT",
        "outputId": "1fcbe0ab-de26-4ab0-bf1e-c0deea044910"
      },
      "outputs": [
        {
          "name": "stdout",
          "output_type": "stream",
          "text": [
            "6\n",
            "1\n",
            "2\n",
            "3\n",
            "4\n",
            "5\n",
            "6\n"
          ]
        }
      ],
      "source": [
        "#if a=5 print upto 5 numbers #using while loop\n",
        "a=int(input())\n",
        "i=1\n",
        "while i<=a:\n",
        "  print(i)\n",
        "  i=i+1 #i+=1"
      ]
    },
    {
      "cell_type": "code",
      "execution_count": null,
      "metadata": {
        "colab": {
          "base_uri": "https://localhost:8080/"
        },
        "id": "39FqapC46jYl",
        "outputId": "eb87574b-d8c4-43ee-8801-1b1cf1cceb3b"
      },
      "outputs": [
        {
          "name": "stdout",
          "output_type": "stream",
          "text": [
            "5\n",
            "1\n",
            "2\n",
            "3\n",
            "4\n",
            "5\n"
          ]
        }
      ],
      "source": [
        "#using for loop\n",
        "a=int(input())\n",
        "for i in range(1,a+1):\n",
        "  print(i)"
      ]
    },
    {
      "cell_type": "code",
      "execution_count": null,
      "metadata": {
        "colab": {
          "base_uri": "https://localhost:8080/"
        },
        "id": "MUUWOn0x7sBr",
        "outputId": "38caabfe-49cd-44de-c708-9a786a07e36b"
      },
      "outputs": [
        {
          "name": "stdout",
          "output_type": "stream",
          "text": [
            "5\n",
            "15\n",
            "15\n",
            "30\n"
          ]
        }
      ],
      "source": [
        "#sum of n natural numbers\n",
        "a=int(input())\n",
        "print(int((a*(a+1))/2))\n",
        "\n",
        "#or\n",
        "\n",
        "i=1\n",
        "sum=0\n",
        "while i<=a:\n",
        "  sum=sum+i\n",
        "  i=i+1\n",
        "print(sum)\n"
      ]
    },
    {
      "cell_type": "code",
      "execution_count": null,
      "metadata": {
        "colab": {
          "base_uri": "https://localhost:8080/"
        },
        "id": "1TuXAH1e_Qnm",
        "outputId": "5b5cea59-748f-4903-872c-e4c01e6c58f9"
      },
      "outputs": [
        {
          "name": "stdout",
          "output_type": "stream",
          "text": [
            "3\n",
            "6\n"
          ]
        }
      ],
      "source": [
        "#using for loop\n",
        "a=int(input())\n",
        "sum=0\n",
        "for i in range(1,a+1):\n",
        "  sum=sum+i\n",
        "print(sum)"
      ]
    },
    {
      "cell_type": "code",
      "execution_count": null,
      "metadata": {
        "colab": {
          "base_uri": "https://localhost:8080/"
        },
        "id": "90iNOLzF__vU",
        "outputId": "0e81d936-847c-47f8-84b1-b9ae33c57960"
      },
      "outputs": [
        {
          "name": "stdout",
          "output_type": "stream",
          "text": [
            "10\n",
            "2\n",
            "4\n",
            "6\n",
            "8\n",
            "10\n"
          ]
        }
      ],
      "source": [
        "#print even numbers from 1 to n\n",
        "a=int(input())\n",
        "for i in range(1,a+1):\n",
        "  if(i%2==0):\n",
        "    print(i)"
      ]
    },
    {
      "cell_type": "code",
      "execution_count": null,
      "metadata": {
        "colab": {
          "base_uri": "https://localhost:8080/"
        },
        "id": "4XSjuUybCS44",
        "outputId": "a65a7911-a8b9-4f81-afe1-239bdba2b08c"
      },
      "outputs": [
        {
          "name": "stdout",
          "output_type": "stream",
          "text": [
            "10\n",
            "2\n",
            "4\n",
            "6\n",
            "8\n",
            "10\n"
          ]
        }
      ],
      "source": [
        "#using while loop\n",
        "a=int(input())\n",
        "i=1\n",
        "while i<=a:\n",
        "  if(i%2==0):\n",
        "    print(i)\n",
        "  i=i+1"
      ]
    },
    {
      "cell_type": "code",
      "execution_count": null,
      "metadata": {
        "colab": {
          "base_uri": "https://localhost:8080/"
        },
        "id": "3x6lrEhVEG_3",
        "outputId": "5093eb2c-5a0a-4284-e8d5-da0de19c90eb"
      },
      "outputs": [
        {
          "name": "stdout",
          "output_type": "stream",
          "text": [
            "3\n",
            "3 x 1 = 3\n",
            "3 x 2 = 6\n",
            "3 x 3 = 9\n",
            "3 x 4 = 12\n",
            "3 x 5 = 15\n",
            "3 x 6 = 18\n",
            "3 x 7 = 21\n",
            "3 x 8 = 24\n",
            "3 x 9 = 27\n",
            "3 x 10 = 30\n"
          ]
        }
      ],
      "source": [
        "#multiplication table\n",
        "#using for loop\n",
        "a=int(input())\n",
        "for i in range(1,11):\n",
        "\n",
        "  print(a,\"x\",i,\"=\",a*i)\n",
        "  i=i+1"
      ]
    },
    {
      "cell_type": "code",
      "execution_count": null,
      "metadata": {
        "colab": {
          "base_uri": "https://localhost:8080/"
        },
        "id": "eYjQCQUzES9k",
        "outputId": "9942c28e-911a-4656-d03b-c7efbbccefaf"
      },
      "outputs": [
        {
          "name": "stdout",
          "output_type": "stream",
          "text": [
            "3\n",
            "3 x 1 = 3\n",
            "3 x 2 = 6\n",
            "3 x 3 = 9\n",
            "3 x 4 = 12\n",
            "3 x 5 = 15\n",
            "3 x 6 = 18\n",
            "3 x 7 = 21\n",
            "3 x 8 = 24\n",
            "3 x 9 = 27\n",
            "3 x 10 = 30\n"
          ]
        }
      ],
      "source": [
        "#using while loop\n",
        "a=int(input())\n",
        "i=1\n",
        "while i<=10:\n",
        "  print(a,\"x\",i,\"=\",a*i)\n",
        "  i=i+1"
      ]
    },
    {
      "cell_type": "code",
      "execution_count": null,
      "metadata": {
        "colab": {
          "base_uri": "https://localhost:8080/"
        },
        "id": "z6I5VjkTFGqq",
        "outputId": "5569d25e-87d5-4825-e8a9-06b88d849b94"
      },
      "outputs": [
        {
          "name": "stdout",
          "output_type": "stream",
          "text": [
            "3\n",
            "6\n"
          ]
        }
      ],
      "source": [
        "#factorial\n",
        "a=int(input())\n",
        "fact=1\n",
        "while a>0:\n",
        "  fact=fact*a\n",
        "  a=a-1\n",
        "print(fact)\n"
      ]
    },
    {
      "cell_type": "code",
      "execution_count": null,
      "metadata": {
        "colab": {
          "base_uri": "https://localhost:8080/"
        },
        "id": "2eHBH-f68zqd",
        "outputId": "49e76335-fdfd-4e3c-80da-e94c5d501d76"
      },
      "outputs": [
        {
          "name": "stdout",
          "output_type": "stream",
          "text": [
            "5\n",
            "120\n"
          ]
        }
      ],
      "source": [
        "a = int(input())\n",
        "fact = 1\n",
        "\n",
        "for i in range(1, a + 1):\n",
        "    fact =fact*i\n",
        "\n",
        "print(fact)\n"
      ]
    },
    {
      "cell_type": "markdown",
      "metadata": {
        "id": "47vVcTBlEK4b"
      },
      "source": [
        "functions"
      ]
    },
    {
      "cell_type": "code",
      "execution_count": null,
      "metadata": {
        "colab": {
          "base_uri": "https://localhost:8080/"
        },
        "id": "Smw3idxq8Iix",
        "outputId": "5d300d48-ed61-4289-abe5-d5f3ebc1d133"
      },
      "outputs": [
        {
          "name": "stdout",
          "output_type": "stream",
          "text": [
            "5\n",
            "120\n"
          ]
        }
      ],
      "source": [
        "\n",
        "def factorial(x):\n",
        "    if x==0 or x==1:\n",
        "        return 1\n",
        "    elif x<0:\n",
        "        return 0\n",
        "    else:\n",
        "        return x*factorial(x-1)\n",
        "x=int(input())\n",
        "print(factorial(x))"
      ]
    },
    {
      "cell_type": "code",
      "execution_count": null,
      "metadata": {
        "colab": {
          "base_uri": "https://localhost:8080/"
        },
        "id": "WPY48r4MEVoa",
        "outputId": "7985024a-e66c-4839-93ac-643c8328cda3"
      },
      "outputs": [
        {
          "data": {
            "text/plain": [
              "7"
            ]
          },
          "execution_count": 18,
          "metadata": {},
          "output_type": "execute_result"
        }
      ],
      "source": [
        "#positional arguments (arguments passed based on their positions (order in arguments))\n",
        "def add(a,b):\n",
        "  return a+b\n",
        "add(3,4)"
      ]
    },
    {
      "cell_type": "code",
      "execution_count": null,
      "metadata": {
        "colab": {
          "base_uri": "https://localhost:8080/"
        },
        "id": "sKjlnZoCL58q",
        "outputId": "90c3d690-b915-484e-be71-a18e59b7dd25"
      },
      "outputs": [
        {
          "name": "stdout",
          "output_type": "stream",
          "text": [
            "5\n",
            "10\n"
          ]
        },
        {
          "data": {
            "text/plain": [
              "15"
            ]
          },
          "execution_count": 30,
          "metadata": {},
          "output_type": "execute_result"
        }
      ],
      "source": [
        "def add(c,d):\n",
        "  return c+d\n",
        "a=int(input())\n",
        "b=int(input())\n",
        "add(a,b)"
      ]
    },
    {
      "cell_type": "code",
      "execution_count": null,
      "metadata": {
        "colab": {
          "base_uri": "https://localhost:8080/"
        },
        "id": "8sJ5jEotEfe0",
        "outputId": "cb28877f-aa97-49d4-ebe8-d3e48e0314e5"
      },
      "outputs": [
        {
          "name": "stdout",
          "output_type": "stream",
          "text": [
            "Name chaitu\n",
            "Age 25\n"
          ]
        }
      ],
      "source": [
        "#keyword arguments (pass arguments to a functioj using their names explicity(no required order))\n",
        "def person_info(name,age):\n",
        "  print(\"Name:\",name)\n",
        "  print(\"Age:\",age)\n",
        "person_info(age=25,name=\"chaitu\")"
      ]
    },
    {
      "cell_type": "code",
      "execution_count": null,
      "metadata": {
        "colab": {
          "base_uri": "https://localhost:8080/"
        },
        "id": "emgl1IjaGhH6",
        "outputId": "c4101120-af09-47a7-c3e4-435d51d4a067"
      },
      "outputs": [
        {
          "name": "stdout",
          "output_type": "stream",
          "text": [
            "Name: chaitanya\n",
            "Behaviour: good\n"
          ]
        }
      ],
      "source": [
        "#default(to provide  default values):\n",
        "\n",
        "def student_behaviour(name, behaviour=\"good\"):\n",
        "    print(\"Name:\", name)\n",
        "    print(\"Behaviour:\", behaviour)\n",
        "\n",
        "student_behaviour(name=\"chaitanya\")"
      ]
    },
    {
      "cell_type": "markdown",
      "metadata": {
        "id": "Qs8u5SMAIdZx"
      },
      "source": [
        "scope of variables"
      ]
    },
    {
      "cell_type": "code",
      "execution_count": null,
      "metadata": {
        "colab": {
          "base_uri": "https://localhost:8080/"
        },
        "id": "J8CLv5tNIY1N",
        "outputId": "6b02c7d6-0765-4736-d0d6-fd1ff295b2cd"
      },
      "outputs": [
        {
          "name": "stdout",
          "output_type": "stream",
          "text": [
            "11\n",
            "10\n"
          ]
        }
      ],
      "source": [
        "#global scope(variable can be accessed anywhere from code.defined outside function)\n",
        "global_variable=10\n",
        "def function(a):\n",
        "  a=global_variable+1\n",
        "  print(a)\n",
        "function(a)\n",
        "print(global_variable)"
      ]
    },
    {
      "cell_type": "code",
      "execution_count": null,
      "metadata": {
        "colab": {
          "base_uri": "https://localhost:8080/"
        },
        "id": "XSqfch-PJcxz",
        "outputId": "a0b39b4d-6099-4db1-b58c-e1a020d98670"
      },
      "outputs": [
        {
          "name": "stdout",
          "output_type": "stream",
          "text": [
            "10\n"
          ]
        }
      ],
      "source": [
        "#local sccope(declared and accessible in inside function only )\n",
        "def  function(a):\n",
        "  b=10\n",
        "  print(b)\n",
        "function(a)"
      ]
    },
    {
      "cell_type": "code",
      "execution_count": null,
      "metadata": {
        "colab": {
          "base_uri": "https://localhost:8080/"
        },
        "id": "DxVLF_5cMQ9X",
        "outputId": "00d3d0ad-5d1a-41a4-b360-cffa484c8198"
      },
      "outputs": [
        {
          "name": "stdout",
          "output_type": "stream",
          "text": [
            "78.5\n"
          ]
        }
      ],
      "source": [
        "#area of a circle\n",
        "def area(r):\n",
        "  pie=3.14\n",
        "  print(pie*(r**2))\n",
        "r=5\n",
        "area(r)"
      ]
    },
    {
      "cell_type": "code",
      "execution_count": null,
      "metadata": {
        "colab": {
          "base_uri": "https://localhost:8080/"
        },
        "id": "2Gxm0LGTMQ2u",
        "outputId": "ed39bf09-11e8-46c3-c516-631354b2f833"
      },
      "outputs": [
        {
          "data": {
            "text/plain": [
              "(2.0, 1.0)"
            ]
          },
          "execution_count": 32,
          "metadata": {},
          "output_type": "execute_result"
        }
      ],
      "source": [
        "#quadratic equation\n",
        "import math\n",
        "def qd_eq(a,b,c):\n",
        "  d=math.sqrt((b**2)-(4*a*c))\n",
        "  e=(-b+d)/2*a\n",
        "  f=(-b-d)/2*a\n",
        "  return(e,f)\n",
        "qd_eq(1,-3,2)"
      ]
    },
    {
      "cell_type": "code",
      "execution_count": null,
      "metadata": {
        "colab": {
          "base_uri": "https://localhost:8080/"
        },
        "id": "oXxQYgF9Oc8U",
        "outputId": "b923c1fd-f37a-4bb9-c000-99cdf88bcc7b"
      },
      "outputs": [
        {
          "name": "stdout",
          "output_type": "stream",
          "text": [
            "a= 20\n",
            "b= 10\n",
            "a= 55\n",
            "b= 35\n",
            "a= 70\n",
            "b= 60\n"
          ]
        }
      ],
      "source": [
        "#swap two variables\n",
        "def swap(a,b):\n",
        "  a=a+b\n",
        "  b=a-b\n",
        "  a=a-b\n",
        "  print(\"a=\",a)\n",
        "  print(\"b=\",b)\n",
        "swap(10,20)\n",
        "swap(35,55)\n",
        "swap(60,70)"
      ]
    },
    {
      "cell_type": "markdown",
      "metadata": {
        "id": "rM3bBwdAQH9b"
      },
      "source": [
        "**Recursion**\n",
        "a functinon that calls itself is recursive,the process of executing it is called recursion."
      ]
    },
    {
      "cell_type": "code",
      "execution_count": null,
      "metadata": {
        "id": "mUBHcFUsgtlk"
      },
      "outputs": [],
      "source": [
        "#syntax\n",
        "#def recures():\n",
        "  #recurse()\n",
        "  #.....\n",
        "#recurse()"
      ]
    },
    {
      "cell_type": "code",
      "execution_count": null,
      "metadata": {
        "colab": {
          "base_uri": "https://localhost:8080/"
        },
        "id": "XrsamFpwhKhW",
        "outputId": "d217bf8c-3024-4405-e7eb-ce2fecdfe534"
      },
      "outputs": [
        {
          "name": "stdout",
          "output_type": "stream",
          "text": [
            "5\n",
            "120\n"
          ]
        }
      ],
      "source": [
        "#factorial\n",
        "def fact(n):\n",
        "  if n==1: #basecase\n",
        "    return 1\n",
        "  else:\n",
        "    return n*fact(n-1)\n",
        "n=int(input())\n",
        "print(fact(n))"
      ]
    },
    {
      "cell_type": "code",
      "execution_count": null,
      "metadata": {
        "id": "0aIYIM9xh9Gb"
      },
      "outputs": [],
      "source": [
        "#infinite recursion: never reaches a base case\n",
        "#ex:\n",
        "def recures():\n",
        "  recurse()"
      ]
    },
    {
      "cell_type": "markdown",
      "metadata": {
        "id": "j8r1qpvcQZKM"
      },
      "source": [
        "#**List**\n",
        "1.mutable\n",
        "2.collection of items\n",
        "3.[]\n",
        "4.contain different data types\n",
        "5.allow duplicates\n",
        "6.access elements using indexing\n",
        "\n"
      ]
    },
    {
      "cell_type": "code",
      "execution_count": null,
      "metadata": {
        "id": "AYOKPlbTQGXJ"
      },
      "outputs": [],
      "source": [
        "#creating lists\n",
        "l=[] #empty list\n",
        "l=[1,2,3]\n",
        "l=[\"Raju\",\"Ravi\",\"Ramesh\"]\n",
        "l=[1,\"Raju\",1.12,True]"
      ]
    },
    {
      "cell_type": "code",
      "execution_count": null,
      "metadata": {
        "colab": {
          "base_uri": "https://localhost:8080/"
        },
        "id": "Zt5xJw_DRkGZ",
        "outputId": "9c58ef83-9f9c-4355-acd9-26bc6df89ea4"
      },
      "outputs": [
        {
          "name": "stdout",
          "output_type": "stream",
          "text": [
            "2\n",
            "1\n",
            "6\n"
          ]
        }
      ],
      "source": [
        "#accessing elements in list\n",
        "l=[1,2,3,4,5,6,7,8,9,4,5,6]\n",
        "print(l[1])\n",
        "print(l[0])\n",
        "print(l[-1])"
      ]
    },
    {
      "cell_type": "code",
      "execution_count": null,
      "metadata": {
        "colab": {
          "base_uri": "https://localhost:8080/"
        },
        "id": "rxkn3z0oTaAn",
        "outputId": "04d728ab-0958-480f-ea6d-38ac23309717"
      },
      "outputs": [
        {
          "name": "stdout",
          "output_type": "stream",
          "text": [
            "[2, 3, 4, 5, 6, 7, 8, 9, 4, 5, 6]\n",
            "[1, 2, 3, 4, 5]\n",
            "[2, 3, 4, 5, 6, 7, 8, 9, 4, 5]\n",
            "[6, 5, 4, 9, 8, 7, 6, 5, 4, 3, 2, 1]\n"
          ]
        }
      ],
      "source": [
        "#list slicing\n",
        "l=[1,2,3,4,5,6,7,8,9,4,5,6]\n",
        "print(l[1:])\n",
        "print(l[:5])\n",
        "print(l[1:-1])\n",
        "print(l[::-1])#reverse"
      ]
    },
    {
      "cell_type": "code",
      "execution_count": null,
      "metadata": {
        "colab": {
          "base_uri": "https://localhost:8080/"
        },
        "id": "9S-kMH9iT0vw",
        "outputId": "cc56780d-1db9-4bf8-f11a-e4e1429e67ff"
      },
      "outputs": [
        {
          "name": "stdout",
          "output_type": "stream",
          "text": [
            "[5, 2, 'chaitanya']\n"
          ]
        }
      ],
      "source": [
        "#modifying elements (update)\n",
        "l=[1,2,\"chaitanya\"]\n",
        "l[0]=5\n",
        "print(l)"
      ]
    },
    {
      "cell_type": "code",
      "execution_count": null,
      "metadata": {
        "colab": {
          "base_uri": "https://localhost:8080/"
        },
        "id": "uvmzm9enUj2K",
        "outputId": "d0ecdef1-8d16-4902-c3b9-e918e5388c9a"
      },
      "outputs": [
        {
          "name": "stdout",
          "output_type": "stream",
          "text": [
            "[1, 2, 3, 2, 4]\n",
            "[1, 2, 4, 3, 2, 4]\n",
            "[1, 4, 3, 2, 4]\n",
            "[4, 3, 2, 4]\n",
            "[2, 3, 4, 4]\n",
            "0\n",
            "[1, 2, 3]\n",
            "3\n"
          ]
        }
      ],
      "source": [
        "#methods\n",
        "l=[1,2,3,2]\n",
        "l.append(4) #adds element at end of list\n",
        "print(l)\n",
        "l.insert(2,4) #insert particular element at particular index\n",
        "print(l)\n",
        "l.remove(2) #remove particular element in index\n",
        "print(l)\n",
        "l.pop(0) #remove element in specified index\n",
        "print(l)\n",
        "l.sort()\n",
        "print(l)\n",
        "a=l.index(2)#retuen index value first ocuurance of a specified element\n",
        "print(a)\n",
        "l=[1,2,3,[1,2,3]]\n",
        "print(l[3])\n",
        "print(l[3][2])"
      ]
    },
    {
      "cell_type": "code",
      "execution_count": null,
      "metadata": {
        "colab": {
          "base_uri": "https://localhost:8080/"
        },
        "id": "AqtvcPemU45u",
        "outputId": "f1ddfe01-f0c4-4efc-aee3-66a06a92e807"
      },
      "outputs": [
        {
          "name": "stdout",
          "output_type": "stream",
          "text": [
            "[1, 2, 3, 'a', 'b', 3, 4]\n",
            "True\n",
            "True\n",
            "3\n"
          ]
        }
      ],
      "source": [
        "#list concatination\n",
        "l1=[1,2,3]\n",
        "l2=[\"a\",\"b\",3,4]\n",
        "print(l1+l2)\n",
        "#membership\n",
        "print(1 in l1)\n",
        "print(1 not in l2)\n",
        "#length\n",
        "print(len(l1))"
      ]
    },
    {
      "cell_type": "code",
      "execution_count": null,
      "metadata": {
        "colab": {
          "base_uri": "https://localhost:8080/"
        },
        "id": "05PclzWwW8DY",
        "outputId": "c6ba4502-eac3-453a-90be-3d77d13a0a25"
      },
      "outputs": [
        {
          "name": "stdout",
          "output_type": "stream",
          "text": [
            "[1, 4, 9, 16, 25, 36, 49, 64, 81]\n"
          ]
        }
      ],
      "source": [
        "#list comprehensions(concise way to create lists using a single line of code)\n",
        "squares=[l**2 for l in range (1,10) ]\n",
        "print(squares)"
      ]
    },
    {
      "cell_type": "code",
      "execution_count": null,
      "metadata": {
        "colab": {
          "base_uri": "https://localhost:8080/"
        },
        "id": "qalvXHXMYL5V",
        "outputId": "a610d81b-67f3-4b47-ccb2-f0139c5c4817"
      },
      "outputs": [
        {
          "name": "stdout",
          "output_type": "stream",
          "text": [
            "10 20 30\n",
            "[10, 20, 30]\n"
          ]
        }
      ],
      "source": [
        "#converting list of string elements to int\n",
        "a=input().split(\" \") #string input\n",
        "l=[int(i) for i in a]\n",
        "print(l)"
      ]
    },
    {
      "cell_type": "markdown",
      "metadata": {
        "id": "x3AyjjGaZRsF"
      },
      "source": [
        "\n",
        "#**Tuple**\n",
        ">constant values\n",
        "1.immutable and ordered\n",
        "2.collection of items\n",
        "3.defined with() or without parenthesis\n",
        "4.contain different data types\n",
        "5.allow duplicates\n",
        "6.access elements using indexing\n",
        "7.once a tuple created you cannot add,remove or modify elements\n"
      ]
    },
    {
      "cell_type": "code",
      "execution_count": null,
      "metadata": {
        "colab": {
          "base_uri": "https://localhost:8080/"
        },
        "id": "Q2wcBdkXausf",
        "outputId": "567c9a58-28f2-4190-859f-8854b6e1b6dc"
      },
      "outputs": [
        {
          "name": "stdout",
          "output_type": "stream",
          "text": [
            "(1, 2, 3, 2)\n",
            "(1, 2, 3)\n"
          ]
        }
      ],
      "source": [
        "t=(1,2,3,2) #with parenthesi\n",
        "n=1,2,3 #without  parenthesis\n",
        "print(t)\n",
        "print(n)"
      ]
    },
    {
      "cell_type": "code",
      "execution_count": null,
      "metadata": {
        "colab": {
          "base_uri": "https://localhost:8080/"
        },
        "id": "6SlLIfSybeE3",
        "outputId": "757a1c50-7d67-40b4-aa4f-a83c05265878"
      },
      "outputs": [
        {
          "name": "stdout",
          "output_type": "stream",
          "text": [
            "(2, 3, 4, 5, 6, 7, 8, 9, 4, 5, 6)\n",
            "(1, 2, 3, 4, 5)\n",
            "(2, 3, 4, 5, 6, 7, 8, 9, 4, 5)\n",
            "(6, 5, 4, 9, 8, 7, 6, 5, 4, 3, 2, 1)\n"
          ]
        }
      ],
      "source": [
        "#tuple slicing\n",
        "t=(1,2,3,4,5,6,7,8,9,4,5,6)\n",
        "print(t[1:])\n",
        "print(t[:5])\n",
        "print(t[1:-1])\n",
        "print(t[::-1])#reverse"
      ]
    },
    {
      "cell_type": "code",
      "execution_count": null,
      "metadata": {
        "colab": {
          "base_uri": "https://localhost:8080/"
        },
        "id": "06Scb_09buNZ",
        "outputId": "349028e3-f570-4f18-d923-1815f6bafd1f"
      },
      "outputs": [
        {
          "name": "stdout",
          "output_type": "stream",
          "text": [
            "2\n",
            "1\n",
            "6\n",
            "True\n",
            "True\n",
            "12\n"
          ]
        }
      ],
      "source": [
        "#accessing elements in tuple\n",
        "t=(1,2,3,4,5,6,7,8,9,4,5,6)\n",
        "print(t[1])\n",
        "print(t[0])\n",
        "print(t[-1])\n",
        "#membership\n",
        "print(1 in t)\n",
        "print(55 not in t)\n",
        "#length\n",
        "print(len(t))"
      ]
    },
    {
      "cell_type": "code",
      "execution_count": null,
      "metadata": {
        "colab": {
          "base_uri": "https://localhost:8080/"
        },
        "id": "Y6CyFFC_b9ud",
        "outputId": "a77be32a-b90a-419a-b6d1-128d04125929"
      },
      "outputs": [
        {
          "name": "stdout",
          "output_type": "stream",
          "text": [
            "2\n",
            "1\n"
          ]
        }
      ],
      "source": [
        "#methods : tuple have some common built in methods because immutability\n",
        "t=(1,2,3,4,2,5,6)\n",
        "print(t.count(2))\n",
        "print(t.index(2))"
      ]
    },
    {
      "cell_type": "code",
      "execution_count": null,
      "metadata": {
        "colab": {
          "base_uri": "https://localhost:8080/"
        },
        "id": "oP7Uh_Z8ckDK",
        "outputId": "00665aa6-d840-430b-a14f-ca1a7866270a"
      },
      "outputs": [
        {
          "name": "stdout",
          "output_type": "stream",
          "text": [
            "(1, 23, 1, 2)\n",
            "('chaitanya', 'sai', 1)\n"
          ]
        }
      ],
      "source": [
        "#tuple concatination\n",
        "t=(1,23)\n",
        "t2=(1,2)\n",
        "print(t+t2)\n",
        "t=\"chaitanya\",\"sai\",1\n",
        "print(t)"
      ]
    },
    {
      "cell_type": "markdown",
      "metadata": {
        "id": "XwdvQSlaeHLW"
      },
      "source": [
        "#**SET**\n",
        "\n",
        "\n",
        "*  unordered\n",
        "*  collection of unique  elements\n",
        "*  {} or set()\n",
        "*  mutable\n",
        "*  duplicate elements removed automatically\n"
      ]
    },
    {
      "cell_type": "code",
      "execution_count": null,
      "metadata": {
        "colab": {
          "base_uri": "https://localhost:8080/"
        },
        "id": "yKDoo963eGaU",
        "outputId": "ae27f409-7499-4f6b-99eb-67c7f2fea5c8"
      },
      "outputs": [
        {
          "name": "stdout",
          "output_type": "stream",
          "text": [
            "{33, 11, 22}\n",
            "{1, 2, 3}\n"
          ]
        }
      ],
      "source": [
        "#creTING SETS\n",
        "_set={11,22,33}\n",
        "print(_set)\n",
        "a=set([1,2,3]) #takes one argument only\n",
        "print(a)"
      ]
    },
    {
      "cell_type": "code",
      "execution_count": null,
      "metadata": {
        "colab": {
          "base_uri": "https://localhost:8080/"
        },
        "id": "_Ksrpk09fvA-",
        "outputId": "e1819b25-424f-4640-9255-20f9e294e1c1"
      },
      "outputs": [
        {
          "name": "stdout",
          "output_type": "stream",
          "text": [
            "{33, 4, 11, 'chaitanya', 22}\n"
          ]
        }
      ],
      "source": [
        "#methods\n",
        "#adding elements\n",
        "a={11,22,33,\"chaitanya\"}\n",
        "a.add(4) #append in list\n",
        "print(a)"
      ]
    },
    {
      "cell_type": "code",
      "execution_count": null,
      "metadata": {
        "colab": {
          "base_uri": "https://localhost:8080/"
        },
        "id": "5B_v3sH3gL7s",
        "outputId": "08ca1fda-c8d9-481b-94e2-778c814a40f8"
      },
      "outputs": [
        {
          "name": "stdout",
          "output_type": "stream",
          "text": [
            "{33, 'chaitanya'}\n"
          ]
        }
      ],
      "source": [
        "#removing specific elements (remove() or discard())\n",
        "a={11,22,33,\"chaitanya\"}\n",
        "a.remove(22)\n",
        "a.discard(11)\n",
        "print(a)"
      ]
    },
    {
      "cell_type": "code",
      "execution_count": null,
      "metadata": {
        "colab": {
          "base_uri": "https://localhost:8080/"
        },
        "id": "gypl-Zobg4I1",
        "outputId": "a1d282d5-88c5-4154-9553-8a3b34f9b284"
      },
      "outputs": [
        {
          "name": "stdout",
          "output_type": "stream",
          "text": [
            "{1, 2, 3, 4, 5, 6, 7, 8}\n",
            "{4, 5}\n",
            "{1, 2, 3}\n",
            "{1, 2, 3, 6, 7, 8}\n",
            "False\n",
            "False\n"
          ]
        }
      ],
      "source": [
        "#set operations (union,intersection,difference,symmetric difference)\n",
        "s1={1,2,3,4,5}\n",
        "s2={4,5,6,7,8}\n",
        "print(s1.union(s2))\n",
        "print(s1.intersection(s2))\n",
        "print(s1.difference(s2))\n",
        "print(s1.symmetric_difference(s2))\n",
        "print(s1.issuperset(s2))\n",
        "print(s1.issubset(s2))"
      ]
    },
    {
      "cell_type": "code",
      "execution_count": null,
      "metadata": {
        "colab": {
          "base_uri": "https://localhost:8080/"
        },
        "id": "W2rYc6d9ilqu",
        "outputId": "41cec60e-7e09-4ec1-e4da-a890d47b0fa5"
      },
      "outputs": [
        {
          "name": "stdout",
          "output_type": "stream",
          "text": [
            "True\n",
            "False\n",
            "5\n"
          ]
        }
      ],
      "source": [
        "#membership\n",
        "s1={1,2,3,4,5}\n",
        "print(5 in s1)\n",
        "print(5 not in s1)\n",
        "#length\n",
        "print(len(s1))"
      ]
    },
    {
      "cell_type": "code",
      "execution_count": null,
      "metadata": {
        "id": "q-gA1iH8i-b1"
      },
      "outputs": [],
      "source": [
        "#frozen set(immutable)\n",
        "s1={1,2,3,4,5}\n",
        "f=frozenset(s1)"
      ]
    },
    {
      "cell_type": "code",
      "execution_count": null,
      "metadata": {
        "colab": {
          "base_uri": "https://localhost:8080/"
        },
        "id": "rAeypk2Tje0P",
        "outputId": "a55beea8-94bf-4348-ee00-ea3ff1b511d7"
      },
      "outputs": [
        {
          "name": "stdout",
          "output_type": "stream",
          "text": [
            "{256, 1, 4, 9, 16, 144, 400, 529, 25, 289, 36, 169, 49, 441, 64, 576, 196, 324, 81, 225, 100, 484, 361, 121}\n"
          ]
        }
      ],
      "source": [
        "#set comprehensions\n",
        "squares={x**2 for x in range (1,25)}\n",
        "print(squares)"
      ]
    },
    {
      "cell_type": "code",
      "execution_count": null,
      "metadata": {
        "colab": {
          "base_uri": "https://localhost:8080/"
        },
        "id": "CPyb6BA6jta5",
        "outputId": "e1e1024b-6bff-41ab-9c93-001889ef449d"
      },
      "outputs": [
        {
          "name": "stdout",
          "output_type": "stream",
          "text": [
            "{1, 2, 3, 4}\n",
            "{1, 2, 3, 4, 6}\n",
            "{2, 3, 4, 6}\n",
            "{3, 4, 6}\n",
            "{3, 4, 6, 8, 9, 10}\n"
          ]
        }
      ],
      "source": [
        "#set methods (clear(),copy(),update() etc.)\n",
        "s={1,2,3,4}\n",
        "s2=s.copy()\n",
        "print(s2)\n",
        "s.add(6)\n",
        "print(s)\n",
        "s.pop() #remove first element (no arguments)\n",
        "print(s)\n",
        "s.remove(2) #sepicific element (remove() or discard())\n",
        "print(s)\n",
        "s.update([8,9,10])\n",
        "print(s)"
      ]
    },
    {
      "cell_type": "markdown",
      "metadata": {
        "id": "lVK4CS4tnIG_"
      },
      "source": [
        "#**Dictionary**\n",
        "\n",
        "\n",
        "*  unordered collection\n",
        "*  {} and key-value pairs seperated by :(colons)\n",
        "*  each key unique\n",
        "\n"
      ]
    },
    {
      "cell_type": "code",
      "execution_count": null,
      "metadata": {
        "id": "rQoo53sJqIOm"
      },
      "outputs": [],
      "source": [
        "#creating dictionary\n",
        "d={\"a\":1,\"b\":2}\n",
        "dictionary={\"name\":\"chaitanya\",\"age\":30,\"place\":\"vijayawada\"}\n",
        "dictionary={\"Rollno\":[1,2,3,4],\"name\":[\"chaitanya\",\"sai\",\"durga\",\"rao\"]}"
      ]
    },
    {
      "cell_type": "code",
      "execution_count": null,
      "metadata": {
        "colab": {
          "base_uri": "https://localhost:8080/"
        },
        "id": "-kP_Vo5tl27v",
        "outputId": "075c159e-c1e2-4e71-a902-074b7f33ff43"
      },
      "outputs": [
        {
          "name": "stdout",
          "output_type": "stream",
          "text": [
            "chaitanya\n",
            "30\n",
            "vijayawada\n"
          ]
        }
      ],
      "source": [
        "dictionary={\"name\":\"chaitanya\",\"age\":30,\"place\":\"vijayawada\"}\n",
        "print(dictionary[\"name\"])\n",
        "print(dictionary[\"age\"])\n",
        "print(dictionary[\"place\"])"
      ]
    },
    {
      "cell_type": "code",
      "execution_count": null,
      "metadata": {
        "colab": {
          "base_uri": "https://localhost:8080/"
        },
        "id": "QMSn2IUOnYAs",
        "outputId": "2b36c962-6498-4d87-d3f2-6214f4615d2a"
      },
      "outputs": [
        {
          "name": "stdout",
          "output_type": "stream",
          "text": [
            "{'a': 1, 'b': 2, 'c': 3}\n",
            "dict_keys(['a', 'b', 'c'])\n",
            "dict_values([1, 2, 3])\n",
            "dict_items([('a', 1), ('b', 2), ('c', 3)])\n",
            "1\n",
            "1\n",
            "1\n",
            "{'b': 2, 'c': 3}\n"
          ]
        }
      ],
      "source": [
        "#methods\n",
        "d={\"a\":1,\"b\":2}\n",
        "d[\"c\"]=3 #adding or updating element:update exisiting ones\n",
        "print(d)\n",
        "print(d.keys())\n",
        "print(d.values())\n",
        "print(d.items()) #items=key-values pairs\n",
        "print(d.get(\"a\")) #or\n",
        "print(d[\"a\"])\n",
        "print(d.pop(\"a\"))\n",
        "print(d)"
      ]
    },
    {
      "cell_type": "code",
      "execution_count": null,
      "metadata": {
        "colab": {
          "base_uri": "https://localhost:8080/"
        },
        "id": "cklwN5tfp4z1",
        "outputId": "4680f2d1-c509-4c9e-98a1-d2b83a2d6165"
      },
      "outputs": [
        {
          "name": "stdout",
          "output_type": "stream",
          "text": [
            "Updated dictionary: {'a': 1, 'b': 3, 'c': 4}\n"
          ]
        }
      ],
      "source": [
        "# Original dictionary\n",
        "original_dict = {'a': 1, 'b': 2}\n",
        "\n",
        "# Dictionary to update from\n",
        "update_dict = {'b': 3, 'c': 4}\n",
        "\n",
        "# Update original_dict with values from update_dict\n",
        "original_dict.update(update_dict)\n",
        "\n",
        "# Print the updated dictionary\n",
        "print(\"Updated dictionary:\", original_dict)\n"
      ]
    },
    {
      "cell_type": "code",
      "execution_count": null,
      "metadata": {
        "id": "hU5mJwQWqD01"
      },
      "outputs": [],
      "source": [
        "#looping in dictionary : iterate through keys or values of a dictionary"
      ]
    },
    {
      "cell_type": "code",
      "execution_count": null,
      "metadata": {
        "colab": {
          "base_uri": "https://localhost:8080/"
        },
        "id": "l4eW7x59nGfv",
        "outputId": "cff7217c-ffad-4f30-8ed2-cde87cd9f85a"
      },
      "outputs": [
        {
          "name": "stdout",
          "output_type": "stream",
          "text": [
            "name\n",
            "age\n",
            "place\n",
            "chaitanya\n",
            "30\n",
            "vijayawada\n",
            "name chaitanya\n",
            "age 30\n",
            "place vijayawada\n"
          ]
        }
      ],
      "source": [
        "dictionary={\"name\":\"chaitanya\",\"age\":30,\"place\":\"vijayawada\"}\n",
        "for key in dictionary: #normally a loop iterates keys only\n",
        "  print(key)\n",
        "for value in dictionary.values(): #used a method to iterate values\n",
        "  print(value)\n",
        "for key,value in dictionary.items(): #to iterate both key-value pairs used items method\n",
        "  print(key,value)"
      ]
    },
    {
      "cell_type": "code",
      "execution_count": null,
      "metadata": {
        "colab": {
          "base_uri": "https://localhost:8080/"
        },
        "id": "xqhODMrMrrsv",
        "outputId": "ed02f0d2-8ac7-4d62-acfc-f2bd5e3994b6"
      },
      "outputs": [
        {
          "name": "stdout",
          "output_type": "stream",
          "text": [
            "{1: 1, 2: 4, 3: 9, 4: 16, 5: 25, 6: 36, 7: 49, 8: 64, 9: 81}\n",
            "{1: 1, 2: 4, 3: 9, 4: 16, 5: 25, 6: 36, 7: 49, 8: 64, 9: 81}\n"
          ]
        }
      ],
      "source": [
        "#dictionary comprehensions:\n",
        "square={X:X**2 for X in range(1,10)}\n",
        "print(square)\n",
        "print({X:X**2 for X in range(1,10)})"
      ]
    },
    {
      "cell_type": "markdown",
      "metadata": {
        "id": "RnevEe7Bs9g2"
      },
      "source": [
        "#programs on list,sets,tuples,dictionarys"
      ]
    },
    {
      "cell_type": "code",
      "execution_count": null,
      "metadata": {
        "colab": {
          "base_uri": "https://localhost:8080/"
        },
        "id": "5Gqjuy-9ruz_",
        "outputId": "f1b1be7b-b234-4fe6-8ab9-ab5cd6860365"
      },
      "outputs": [
        {
          "name": "stdout",
          "output_type": "stream",
          "text": [
            "15\n"
          ]
        }
      ],
      "source": [
        "#sum of list elements using for loop\n",
        "a=[1,2,3,4,5]\n",
        "sum=0\n",
        "for i in a:\n",
        "  sum=sum+i\n",
        "print(sum)"
      ]
    },
    {
      "cell_type": "code",
      "execution_count": null,
      "metadata": {
        "colab": {
          "base_uri": "https://localhost:8080/"
        },
        "id": "Ny6i0meIvZiv",
        "outputId": "c9e3cd72-ed3d-4f44-f83a-69992b62719c"
      },
      "outputs": [
        {
          "name": "stdout",
          "output_type": "stream",
          "text": [
            "15\n"
          ]
        }
      ],
      "source": [
        "a=[1,2,3,4,5]\n",
        "sum=0\n",
        "for i in range(len(a)):\n",
        "  sum=sum+a[i]\n",
        "print(sum)"
      ]
    },
    {
      "cell_type": "code",
      "execution_count": null,
      "metadata": {
        "colab": {
          "base_uri": "https://localhost:8080/"
        },
        "id": "IVz6VGwhienI",
        "outputId": "3b9ca05c-7ce1-4a59-bfc9-102297be8a96"
      },
      "outputs": [
        {
          "name": "stdout",
          "output_type": "stream",
          "text": [
            "5\n",
            "15\n"
          ]
        }
      ],
      "source": [
        "#using while loop\n",
        "a=[1,2,3,4,5]\n",
        "print(len(a))\n",
        "i=0\n",
        "sum=0\n",
        "while i<len(a):\n",
        "  sum=sum+a[i]\n",
        "  i=i+1\n",
        "print(sum)"
      ]
    },
    {
      "cell_type": "code",
      "execution_count": null,
      "metadata": {
        "colab": {
          "base_uri": "https://localhost:8080/"
        },
        "id": "kjZpNvhOv6iV",
        "outputId": "5d1ca7fb-9f11-42f8-daba-854680e5140c"
      },
      "outputs": [
        {
          "name": "stdout",
          "output_type": "stream",
          "text": [
            "5\n",
            "15\n"
          ]
        }
      ],
      "source": [
        "#tuple sum\n",
        "a=(1,2,3,4,5)\n",
        "print(len(a))\n",
        "i=0\n",
        "sum=0\n",
        "while i<len(a):\n",
        "  sum=sum+a[i]\n",
        "  i=i+1\n",
        "print(sum)"
      ]
    },
    {
      "cell_type": "code",
      "execution_count": null,
      "metadata": {
        "colab": {
          "base_uri": "https://localhost:8080/"
        },
        "id": "aQ84NaGLwFj5",
        "outputId": "747fc959-7c16-4e0d-ec63-f6894ba9f0c0"
      },
      "outputs": [
        {
          "name": "stdout",
          "output_type": "stream",
          "text": [
            "1\n",
            "5\n",
            "1\n",
            "5\n",
            "1\n",
            "5\n"
          ]
        }
      ],
      "source": [
        "a=[2,1,4,5,3]\n",
        "a.sort() #[1,2,3,4,5]\n",
        "print(a[0])\n",
        "print(a[-1]) #or\n",
        "\n",
        "print(min(a))\n",
        "print(max(a)) #or\n",
        "\n",
        "maxi=a[0] #assuming first element is maximum\n",
        "mini=a[0] #assuming first element is minimum\n",
        "for i in a:\n",
        "  if i>maxi:\n",
        "    maxi=i\n",
        "  if i<mini:\n",
        "    mini=i\n",
        "\n",
        "print(mini)\n",
        "print(maxi)"
      ]
    },
    {
      "cell_type": "code",
      "execution_count": null,
      "metadata": {
        "colab": {
          "base_uri": "https://localhost:8080/"
        },
        "id": "rF2oAm6NztBM",
        "outputId": "e4fe18fe-af03-4f37-c467-3d1dfd12018d"
      },
      "outputs": [
        {
          "name": "stdout",
          "output_type": "stream",
          "text": [
            "[1, 2, 3, 4, 5]\n"
          ]
        }
      ],
      "source": [
        "#remove duplicate element in list\n",
        "a=[1,2,3,4,5,1,2]\n",
        "l=[]\n",
        "for i in a:\n",
        "  if i in l:\n",
        "    continue\n",
        "  else:\n",
        "    l.append(i)\n",
        "print(l)"
      ]
    },
    {
      "cell_type": "code",
      "execution_count": null,
      "metadata": {
        "colab": {
          "base_uri": "https://localhost:8080/"
        },
        "id": "eDwcaDwRRNLZ",
        "outputId": "83b5a81a-1f3b-4872-c290-d43191467d78"
      },
      "outputs": [
        {
          "name": "stdout",
          "output_type": "stream",
          "text": [
            "2\n",
            "2\n",
            "2\n"
          ]
        }
      ],
      "source": [
        "#counting specific element in list\n",
        "a=[1,2,3,4,5,1,2]\n",
        "print(a.count(2))\n",
        "n=int(input())\n",
        "#or\n",
        "c=0\n",
        "for i in a:\n",
        "  if i==n:\n",
        "    c=c+1\n",
        "print(c)"
      ]
    },
    {
      "cell_type": "code",
      "execution_count": null,
      "metadata": {
        "colab": {
          "base_uri": "https://localhost:8080/"
        },
        "id": "GCO4tMwVSjrG",
        "outputId": "716f34bf-d2ff-4fb4-9db2-93ddd3f2b370"
      },
      "outputs": [
        {
          "name": "stdout",
          "output_type": "stream",
          "text": [
            "1,2,3\n",
            "[1, 2, 3]\n"
          ]
        }
      ],
      "source": [
        "#string to list\n",
        "l = input()\n",
        "a=[int(i) for i in l.split(',')] #or\n",
        "\n",
        "a=[int(i) for i in input().split(',')]\n",
        "print(a)\n"
      ]
    },
    {
      "cell_type": "code",
      "execution_count": null,
      "metadata": {
        "colab": {
          "base_uri": "https://localhost:8080/"
        },
        "id": "xw01TCXLU0yk",
        "outputId": "40e8d2c7-c459-487c-ec7b-dc405a4bf0ce"
      },
      "outputs": [
        {
          "name": "stdout",
          "output_type": "stream",
          "text": [
            "1,2,3,4,5\n",
            "4,5,6,7,8\n",
            "{4, 5}\n",
            "{1, 2, 3, 4, 5, 6, 7, 8}\n"
          ]
        }
      ],
      "source": [
        "a=input()\n",
        "b=input()\n",
        "a={int(i) for i in a.split(',')}\n",
        "b={int(i) for i in b.split(',')}\n",
        "print(a.intersection(b))\n",
        "print(a.union(b))\n"
      ]
    },
    {
      "cell_type": "code",
      "execution_count": null,
      "metadata": {
        "colab": {
          "base_uri": "https://localhost:8080/"
        },
        "id": "lQ62207SV0fb",
        "outputId": "30f0ec1e-fec6-4ab9-9fc0-f27888b60472"
      },
      "outputs": [
        {
          "name": "stdout",
          "output_type": "stream",
          "text": [
            "{'name': 'john', 'age': 30, 'city': 'NewYork', 'City': 'fr'}\n"
          ]
        }
      ],
      "source": [
        "dictionary={\"name\":\"john\",\"age\":30,\"city\":\"NewYork\"}\n",
        "dictionary[\"City\"]=\"france\"\n",
        "print(dictionary)"
      ]
    },
    {
      "cell_type": "code",
      "execution_count": null,
      "metadata": {
        "colab": {
          "base_uri": "https://localhost:8080/"
        },
        "id": "YKFrcicNiUZz",
        "outputId": "f15f99d2-e7c1-4a7e-9e95-7ff20a83a9c4"
      },
      "outputs": [
        {
          "name": "stdout",
          "output_type": "stream",
          "text": [
            "[0, 1, 1, 2, 3, 5, 8, 13, 21, 34]\n"
          ]
        }
      ],
      "source": [
        "def fibonacci(n):\n",
        "    fib_sequence = [0, 1]  # Initialize Fibonacci sequence with first two numbers\n",
        "    for i in range(2, n):\n",
        "        fib_sequence.append(fib_sequence[-1] + fib_sequence[-2])  # Add the sum of the last two numbers to the sequence\n",
        "    return fib_sequence[:n]  # Return the first n numbers in the Fibonacci sequence\n",
        "\n",
        "# Example usage:\n",
        "n = 10  # Number of Fibonacci numbers to generate\n",
        "print(fibonacci(n))\n"
      ]
    },
    {
      "cell_type": "code",
      "execution_count": null,
      "metadata": {
        "colab": {
          "base_uri": "https://localhost:8080/"
        },
        "id": "2C4uUmKKkO_0",
        "outputId": "f3e1cf52-b1fb-42e8-faa9-f386bdb711f2"
      },
      "outputs": [
        {
          "name": "stdout",
          "output_type": "stream",
          "text": [
            "[0, 1, 1, 2, 3, 5, 8, 13, 21, 34, 55]\n"
          ]
        }
      ],
      "source": [
        "def fibonacci(n):\n",
        "    if n <= 1:\n",
        "        return n\n",
        "    else:\n",
        "        return fibonacci(n-1) + fibonacci(n-2)\n",
        "\n",
        "# Example usage:\n",
        "n = 11  # Number of Fibonacci numbers to generate\n",
        "fib_sequence = [fibonacci(i) for i in range(n)]\n",
        "print(fib_sequence)"
      ]
    },
    {
      "cell_type": "code",
      "execution_count": null,
      "metadata": {
        "colab": {
          "base_uri": "https://localhost:8080/"
        },
        "id": "R4VkceKMHp2-",
        "outputId": "24f3d198-59a4-414f-c48f-0954e96abb3a"
      },
      "outputs": [
        {
          "name": "stdout",
          "output_type": "stream",
          "text": [
            "[1, 2]\n"
          ]
        }
      ],
      "source": [
        "a=[1,2,3,\"a\",\"b\"]\n",
        "for i in a:\n",
        "  a.pop()\n",
        "print(a)"
      ]
    },
    {
      "cell_type": "code",
      "source": [
        "a=int(input())\n",
        "b=str(a)\n",
        "c=b[-1]\n",
        "d=int(c)\n",
        "if (d==2 or d==4 or d==6 or d==8 or d==0 ):\n",
        "  print(\"even\")\n",
        "else:\n",
        "  print(\"not even\")\n"
      ],
      "metadata": {
        "id": "Z5Dt3vKld3vD",
        "colab": {
          "base_uri": "https://localhost:8080/"
        },
        "outputId": "413fb208-d77d-4734-d6c2-ff8a5614c624"
      },
      "execution_count": null,
      "outputs": [
        {
          "output_type": "stream",
          "name": "stdout",
          "text": [
            "6\n",
            "even\n"
          ]
        }
      ]
    },
    {
      "cell_type": "markdown",
      "source": [
        "Exception\n"
      ],
      "metadata": {
        "id": "1cni_nY5GHgy"
      }
    },
    {
      "cell_type": "code",
      "source": [
        "a=10\n",
        "b=\"Chaitnaya\"\n",
        "try:\n",
        "  print(a+b)\n",
        "except TypeError:\n",
        "  print(\"cannot add int and string\")"
      ],
      "metadata": {
        "colab": {
          "base_uri": "https://localhost:8080/"
        },
        "id": "XqzplLwqGE_i",
        "outputId": "2abde240-feea-4e2f-b2ed-ff122e12547d"
      },
      "execution_count": null,
      "outputs": [
        {
          "output_type": "stream",
          "name": "stdout",
          "text": [
            "15\n"
          ]
        }
      ]
    },
    {
      "cell_type": "code",
      "source": [
        "while():\n"
      ],
      "metadata": {
        "id": "MSJyf5hgGhFF"
      },
      "execution_count": null,
      "outputs": []
    }
  ],
  "metadata": {
    "colab": {
      "provenance": [],
      "toc_visible": true,
      "authorship_tag": "ABX9TyM/3x5rc5zclhv8nzpIlQN9",
      "include_colab_link": true
    },
    "kernelspec": {
      "display_name": "Python 3",
      "name": "python3"
    },
    "language_info": {
      "name": "python"
    }
  },
  "nbformat": 4,
  "nbformat_minor": 0
}